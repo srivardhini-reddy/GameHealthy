{
  "nbformat": 4,
  "nbformat_minor": 0,
  "metadata": {
    "colab": {
      "provenance": [],
      "authorship_tag": "ABX9TyOnNru1WbbiBVFsR3bGAENh",
      "include_colab_link": true
    },
    "kernelspec": {
      "name": "python3",
      "display_name": "Python 3"
    },
    "language_info": {
      "name": "python"
    }
  },
  "cells": [
    {
      "cell_type": "markdown",
      "metadata": {
        "id": "view-in-github",
        "colab_type": "text"
      },
      "source": [
        "<a href=\"https://colab.research.google.com/github/srivardhini-reddy/GameHealthy/blob/main/Mouse_control_Anomaly_detection.ipynb\" target=\"_parent\"><img src=\"https://colab.research.google.com/assets/colab-badge.svg\" alt=\"Open In Colab\"/></a>"
      ]
    },
    {
      "cell_type": "code",
      "execution_count": 4,
      "metadata": {
        "colab": {
          "base_uri": "https://localhost:8080/"
        },
        "id": "9raG-ncyCth3",
        "outputId": "ba06993a-450a-4349-b5fe-0a6d0dd7d457"
      },
      "outputs": [
        {
          "output_type": "stream",
          "name": "stdout",
          "text": [
            "100\n",
            "High number of anomalies detected! Flagging anomalies.\n"
          ]
        }
      ],
      "source": [
        "# Import necessary libraries\n",
        "import numpy as np\n",
        "from sklearn.ensemble import IsolationForest\n",
        "from sklearn.preprocessing import StandardScaler\n",
        "\n",
        "# Generate synthetic gaming mouse data (replace this with your actual data)\n",
        "np.random.seed(42)\n",
        "data_size = 1000\n",
        "\n",
        "mouse_data = np.random.rand(data_size, 3)  # Replace this with your actual data\n",
        "mouse_data[:, 0] *= 100  # Simulating mouse sensitivity\n",
        "mouse_data[:, 1] *= 10   # Simulating mouse accuracy\n",
        "mouse_data[:, 2] *= 500  # Simulating reaction times\n",
        "\n",
        "# Standardize the data\n",
        "scaler = StandardScaler()\n",
        "mouse_data_scaled = scaler.fit_transform(mouse_data)\n",
        "\n",
        "# Train Isolation Forest model\n",
        "model = IsolationForest(contamination=0.1)  # Adjust contamination based on expected anomaly rate\n",
        "model.fit(mouse_data_scaled)\n",
        "\n",
        "# Predict anomalies\n",
        "anomalies = model.predict(mouse_data_scaled)\n",
        "\n",
        "# Set a threshold for the number of anomalies to flag\n",
        "threshold = 50\n",
        "print(sum(anomalies == -1))\n",
        "# Check if the number of anomalies exceeds the threshold\n",
        "if np.sum(anomalies == -1) > threshold:\n",
        "    print(\"High number of anomalies detected! Flagging anomalies.\")\n",
        "    # Add your code to handle flagged anomalies, such as logging or taking corrective actions\n",
        "else:\n",
        "    print(\"Normal behavior detected.\")\n"
      ]
    }
  ]
}